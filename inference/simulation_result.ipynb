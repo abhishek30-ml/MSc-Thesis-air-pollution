{
 "cells": [
  {
   "cell_type": "markdown",
   "id": "68333789",
   "metadata": {},
   "source": [
    "# Results for SImulation Data"
   ]
  },
  {
   "cell_type": "code",
   "execution_count": null,
   "id": "a03359a2",
   "metadata": {},
   "outputs": [],
   "source": [
    "import random\n",
    "import json\n",
    "import numpy as np\n",
    "import matplotlib.pyplot as plt\n",
    "import torch\n",
    "from torch.utils.data import DataLoader\n",
    "\n",
    "from training.vit_unet import load_model as vit_unet_model\n",
    "from training.unet import load_model as unet_model\n",
    "from training.diffusion import load_model as diffusion_model\n",
    "\n",
    "from dataloader.simulation import load_data\n",
    "from dataloader.simulation import data_stat\n",
    "\n",
    "from inference.metrics import EvaluationMetricsSim, DiffusionEvaluation\n"
   ]
  },
  {
   "cell_type": "markdown",
   "id": "1c5f4f28",
   "metadata": {},
   "source": [
    "# Error Visualisation comparision "
   ]
  },
  {
   "cell_type": "code",
   "execution_count": null,
   "id": "9e485ebb",
   "metadata": {},
   "outputs": [],
   "source": [
    "# Load models\n",
    "img_size = (75,110)\n",
    "\n",
    "vit_unet_model = vit_unet_model(img_size, load_checkpoint=True)\n",
    "unet_model = unet_model(img_size, load_checkpoint=True)\n",
    "diffusion_model = diffusion_model(img_size, load_checkpoint=True)"
   ]
  },
  {
   "cell_type": "code",
   "execution_count": null,
   "id": "fb5dd3f4",
   "metadata": {},
   "outputs": [],
   "source": [
    "_, val_dataset_polair_discrim = load_data(normalisation=False, train_idx=7000)\n",
    "_, val_dataset_polair_generative = load_data(normalisation=True, train_idx=7000)"
   ]
  },
  {
   "cell_type": "code",
   "execution_count": null,
   "id": "1671b4ef",
   "metadata": {},
   "outputs": [],
   "source": [
    "# Select random points from validation set for generative model\n",
    "\n",
    "random.seed(42)  # Fix the seed\n",
    "random_list = [random.randint(0, len(val_dataset_polair_generative)-1) for _ in range(8)]  # Example: 10 numbers\n",
    "print(random_list)\n",
    "\n",
    "org_img, mask, vt = val_dataset_polair_generative[random_list[0]]\n",
    "\n",
    "org_img = org_img.unsqueeze(0)\n",
    "mask = mask.unsqueeze(0)\n",
    "vt = vt.unsqueeze(0)\n",
    "\n",
    "for i in range(1,8):\n",
    "    a,c,b = val_dataset_polair_generative[random_list[i]]\n",
    "    a = a.unsqueeze(0)\n",
    "    c = c.unsqueeze(0)\n",
    "    b = b.unsqueeze(0)\n",
    "    org_img = torch.concat((org_img,a), dim=0)\n",
    "    mask = torch.concat((mask,c), dim=0)\n",
    "    vt = torch.concat((vt,b), dim=0)\n",
    "\n",
    "predicted_images_diffusion = diffusion_model.ensemble_prediction(org_img, mask, vt, num_inf_steps=10, num_ensem_steps=20, device='cuda')[-1]\n",
    "\n",
    "predicted_images_diffusion = predicted_images_diffusion.cpu()"
   ]
  },
  {
   "cell_type": "code",
   "execution_count": null,
   "id": "0112a7d6",
   "metadata": {},
   "outputs": [],
   "source": [
    "# Select random points from validation set for discriminative model\n",
    "\n",
    "random.seed(42)  # Fix the seed\n",
    "random_list = [random.randint(0, len(val_dataset_polair_discrim)-1) for _ in range(8)]  # Example: 10 numbers\n",
    "print(random_list)\n",
    "\n",
    "org_img, _, vt = val_dataset_polair_discrim[random_list[0]]\n",
    "\n",
    "org_img = org_img.unsqueeze(0)\n",
    "vt = vt.unsqueeze(0)\n",
    "\n",
    "for i in range(1,8):\n",
    "    a,_,b = val_dataset_polair_discrim[random_list[i]]\n",
    "    a = a.unsqueeze(0)\n",
    "    b = b.unsqueeze(0)\n",
    "    org_img = torch.concat((org_img,a), dim=0)\n",
    "    vt = torch.concat((vt,b), dim=0)\n",
    "\n",
    "predicted_images_vit = vit_unet_model.call_model(vt).cpu()\n",
    "predicted_images_unet = unet_model.call_model(vt).cpu()\n",
    "\n",
    "org_img = org_img.cpu()\n",
    "vt = vt.cpu()"
   ]
  },
  {
   "cell_type": "code",
   "execution_count": null,
   "id": "d7077fc5",
   "metadata": {},
   "outputs": [],
   "source": [
    "# Create plot\n",
    "\n",
    "def plot_result(truth, obs_input, pred_vit, pred_unet, pred_diff, data_type, dict_minmax, dict_meanstd):\n",
    "    f, ax = plt.subplots(8, 5, figsize=(14, 16))\n",
    "    data_min = dict_minmax[data_type][0]\n",
    "    data_max = dict_minmax[data_type][1]\n",
    "    data_mean = dict_meanstd[data_type][0]\n",
    "    data_std = dict_meanstd[data_type][1]\n",
    "    title = ['obs_input', 'truth', 'out(ViT+UNet)', 'error(ViT+UNet)', 'out(UNet)', 'error(UNet)', 'out(diffusion)', 'error(diffusion)']\n",
    "    for i in range(5):\n",
    "        plot_truth = truth[i]*(data_max-data_min) + data_min\n",
    "        plot_obs_input = obs_input[i]*(data_max-data_min) + data_min\n",
    "        plot_prediction1 = pred_vit[i]*(data_max-data_min) + data_min\n",
    "        plot_prediction2 = pred_unet[i]*(data_max-data_min) + data_min\n",
    "        plot_prediction3 = pred_diff[i]*data_std/0.5 + data_mean\n",
    "        \n",
    "        plot_error1 = torch.abs(plot_truth - plot_prediction1.cpu())\n",
    "        plot_error2 = torch.abs(plot_truth - plot_prediction2.cpu())\n",
    "        plot_error3 = torch.abs(plot_truth - plot_prediction3.cpu())\n",
    "\n",
    "        err_max = torch.max(torch.concat((plot_error1, plot_error2, plot_error3)))\n",
    "\n",
    "        im = [\n",
    "            ax[0,i].imshow(plot_obs_input, vmin=0, vmax=torch.max(plot_truth)),\n",
    "            ax[1,i].imshow(plot_truth, vmin=0, vmax=torch.max(plot_truth)),\n",
    "            ax[2,i].imshow(plot_prediction1, vmin=0, vmax=torch.max(plot_truth)),\n",
    "            ax[3,i].imshow(plot_error1, cmap='jet', vmin=0, vmax=err_max),\n",
    "            ax[4,i].imshow(plot_prediction2, vmin=0, vmax=torch.max(plot_truth)),\n",
    "            ax[5,i].imshow(plot_error2, cmap='jet', vmin=0, vmax=err_max),\n",
    "            ax[6,i].imshow(plot_prediction3, vmin=0, vmax=torch.max(plot_truth)),\n",
    "            ax[7,i].imshow(plot_error3, cmap='jet', vmin=0, vmax=err_max)\n",
    "            ]\n",
    "        for j in range(8):\n",
    "            ax[j,i].axis('off')\n",
    "            ax[j,i].set_title(title[j])\n",
    "            cbar = f.colorbar(im[j], ax=ax[j,i])\n",
    "\n",
    "    plt.tight_layout()   \n",
    "    plt.savefig('result/simulation_data_visualise/' + str(data_type) + '.svg')     "
   ]
  },
  {
   "cell_type": "code",
   "execution_count": null,
   "id": "ac1364cb",
   "metadata": {},
   "outputs": [],
   "source": [
    "dict_minmax, dict_meanstd = data_stat()\n",
    "\n",
    "for data_type in range(4):\n",
    "    plot_result(org_img[:,data_type,:,:], vt[:,data_type,:,:], predicted_images_vit[:,data_type,:,:], predicted_images_unet[:,data_type,:,:],\n",
    "             predicted_images_diffusion[:,data_type,:,:], data_type, dict_minmax, dict_meanstd)"
   ]
  },
  {
   "cell_type": "markdown",
   "id": "ce2ddfb4",
   "metadata": {},
   "source": [
    "# Evaluation Metrics"
   ]
  },
  {
   "cell_type": "markdown",
   "id": "a7cfedfb",
   "metadata": {},
   "source": [
    "SSIM Measure and Relative Error for Discriminative Model"
   ]
  },
  {
   "cell_type": "code",
   "execution_count": null,
   "id": "72a7c3c5",
   "metadata": {},
   "outputs": [],
   "source": [
    "# Load models\n",
    "img_size = (75,110)\n",
    "\n",
    "vit_unet_model = vit_unet_model(img_size, load_checkpoint=True)\n",
    "unet_model = unet_model(img_size, load_checkpoint=True)\n",
    "diffusion_model = diffusion_model(img_size, load_checkpoint=True)\n",
    "\n",
    "# Load dataset\n",
    "_, val_dataset_polair_discrim = load_data(normalisation=False, train_idx=7000)\n",
    "_, val_dataset_polair_generative = load_data(normalisation=True, train_idx=7000)"
   ]
  },
  {
   "cell_type": "code",
   "execution_count": null,
   "id": "a8a1721a",
   "metadata": {},
   "outputs": [],
   "source": [
    "dict_minmax, dict_meanstd = data_stat()\n",
    "eval_metric = EvaluationMetricsSim(dict_minmax)\n",
    "\n",
    "vit_path = eval_metric.evaluate_model(vit_unet_model, val_dataset_polair_discrim, 'vit_unet')   # Save metrics for Vit+Unet model\n",
    "unet_path = eval_metric.evaluate_model(unet_model, val_dataset_polair_discrim, 'unet')   # Save metrics for Unet model"
   ]
  },
  {
   "cell_type": "code",
   "execution_count": null,
   "id": "8aa849a5",
   "metadata": {},
   "outputs": [],
   "source": [
    "# Load the relative error\n",
    "vit_rel_error = np.load(vit_path)\n",
    "unet_rel_error = np.load(unet_path)\n"
   ]
  },
  {
   "cell_type": "markdown",
   "id": "ef7c3f58",
   "metadata": {},
   "source": [
    "SSIM Measure and Relative Error for Generative model"
   ]
  },
  {
   "cell_type": "code",
   "execution_count": null,
   "id": "f3029e84",
   "metadata": {},
   "outputs": [],
   "source": [
    "eval_metric_diff = DiffusionEvaluation(dict_meanstd)\n",
    "\n",
    "# Create SSIM Measure and Rel error for various inference step size and ensemble size\n",
    "inf_steps = [2,5,8,10,15,20,25,30,40,50]\n",
    "diffusion_path = eval_metric_diff.create_ensem_inf_metrics(val_dataset_polair_generative, diffusion_model, ensem_size=20, inf_steps_size=inf_steps)"
   ]
  },
  {
   "cell_type": "code",
   "execution_count": null,
   "id": "b8ec2b51",
   "metadata": {},
   "outputs": [],
   "source": [
    "# Load the relative error\n",
    "vit_rel_error = np.load(vit_path)\n",
    "unet_rel_error = np.load(unet_path)\n",
    "diffusion_rel_error = np.load(diffusion_path)"
   ]
  },
  {
   "cell_type": "markdown",
   "id": "f4532c50",
   "metadata": {},
   "source": [
    "Plot Relative Error Histogram"
   ]
  },
  {
   "cell_type": "code",
   "execution_count": null,
   "id": "68250299",
   "metadata": {},
   "outputs": [],
   "source": [
    "f, ax = plt.subplots(2, 2, figsize=(10,8))\n",
    "c=0\n",
    "title = ['NO2', 'O3', 'PM10', 'PM2.5']\n",
    "for i in range(2):\n",
    "    for j in range(2):\n",
    "        \n",
    "        #ax[i,j].hist(vit_rel_error[:,c], bins=80, color='blue', alpha=0.5)\n",
    "        ax[i,j].hist(unet_rel_error[:,c], bins=80, color='red', alpha=0.5)\n",
    "        ax[i,j].hist(diffusion_rel_error[:,c], bins=80, color='green', alpha=0.5)\n",
    "\n",
    "        #ax[i,j].axvline(x=vit_rel_error[:,c].mean(), color='blue', linestyle='--', linewidth=2, alpha=0.5, label='ViT+UNet: '+ str(vit_rel_error[:,c].mean()))\n",
    "        ax[i,j].axvline(x=unet_rel_error[:,c].mean(), color='red', linestyle='--', linewidth=2, alpha=0.5, label='UNet: '+ str(unet_rel_error[:,c].mean()))\n",
    "        ax[i,j].axvline(x=diffusion_rel_error[:,c].mean(), color='green', linestyle='--', linewidth=2, alpha=0.5, label='Diffusion: '+ str(diffusion_rel_error[:,c].mean()))\n",
    "        \n",
    "        ax[i,j].grid()\n",
    "        ax[i,j].legend()\n",
    "        ax[i,j].set_xlim(left=0)\n",
    "        ax[i,j].set_title('Relative Error Distribution (Validation) ' + title[c])\n",
    "        c+=1\n",
    "\n",
    "plt.savefig('result/simulation_data/relative_error/relative_error_unet_diff.png')"
   ]
  },
  {
   "cell_type": "code",
   "execution_count": null,
   "id": "7a6e2530",
   "metadata": {},
   "outputs": [],
   "source": [
    "f, ax = plt.subplots(2, 2, figsize=(10,8))\n",
    "c=0\n",
    "title = ['NO2', 'O3', 'PM10', 'PM2.5']\n",
    "for i in range(2):\n",
    "    for j in range(2):\n",
    "        \n",
    "        ax[i,j].hist(vit_rel_error[:,c], bins=80, color='red', alpha=0.5)\n",
    "        #ax[i,j].hist(unet_rel_error[:,c], bins=80, color='red', alpha=0.5)\n",
    "        ax[i,j].hist(diffusion_rel_error[:,c], bins=80, color='green', alpha=0.5)\n",
    "\n",
    "        ax[i,j].axvline(x=vit_rel_error[:,c].mean(), color='red', linestyle='--', linewidth=2, alpha=0.5, label='ViT+UNet: '+ str(vit_rel_error[:,c].mean()))\n",
    "        #ax[i,j].axvline(x=unet_rel_error[:,c].mean(), color='red', linestyle='--', linewidth=2, alpha=0.5, label='UNet: '+ str(unet_rel_error[:,c].mean()))\n",
    "        ax[i,j].axvline(x=diffusion_rel_error[:,c].mean(), color='green', linestyle='--', linewidth=2, alpha=0.5, label='Diffusion: '+ str(diffusion_rel_error[:,c].mean()))\n",
    "        \n",
    "        ax[i,j].grid()\n",
    "        ax[i,j].legend()\n",
    "        ax[i,j].set_xlim(left=0)\n",
    "        ax[i,j].set_title('Relative Error Distribution (Validation) ' + title[c])\n",
    "        c+=1\n",
    "\n",
    "plt.savefig('result/simulation_data/relative_error/relative_error_vit_diff.png')"
   ]
  },
  {
   "cell_type": "markdown",
   "id": "b335006c",
   "metadata": {},
   "source": [
    "Plot Mean Relative Error and SSIM measure vs Ensemble Size for various Inference steps for Diffusion Model"
   ]
  },
  {
   "cell_type": "code",
   "execution_count": null,
   "id": "cbe945d4",
   "metadata": {},
   "outputs": [],
   "source": [
    "with open('result/simulation_data/output_metric_unet.json', 'r') as file:\n",
    "    # Load the JSON data into a Python dictionary\n",
    "    data = json.load(file)\n",
    "\n",
    "unet_ssim = data['SSIM']\n",
    "unet_mean_err = data['Relative error']\n",
    "\n",
    "inf_steps_list = [2,5,10,15,20,40]\n",
    "\n",
    "f, ax = plt.subplots(2, 2, figsize=(10,8))\n",
    "c=0\n",
    "title = ['NO2', 'O3', 'PM10', 'PM2.5']\n",
    "for k in range(len(inf_steps_list)):\n",
    "    c=0\n",
    "    with open('result/simulation_data/diffusion_metrics/output_metric_inf_size_'+ str(inf_steps_list[k]) + '.json', 'r') as file:\n",
    "        data = json.load(file)\n",
    "        \n",
    "    ssim_meas = np.array(data['SSIM'])\n",
    "\n",
    "    for i in range(2):\n",
    "        for j in range(2):    \n",
    "            ax[i,j].plot(ssim_meas[:,c], label='Infer steps = ' + str(inf_steps_list[k]))\n",
    "            ax[i,j].grid()\n",
    "            ax[i,j].set_title('Ensemble Size vs SSIM Measure ' + title[c])\n",
    "            ax[i,j].set_xlabel('Ensemble Size')\n",
    "            ax[i,j].legend()\n",
    "            c+=1\n",
    "\n",
    "ax[0,0].axhline(unet_ssim['0'], linestyle='--', label='Discriminative', color='red')\n",
    "ax[0,1].axhline(unet_ssim['1'], linestyle='--', label='Discriminative', color='red')\n",
    "ax[1,0].axhline(unet_ssim['2'], linestyle='--', label='Discriminative', color='red')\n",
    "ax[1,1].axhline(unet_ssim['3'], linestyle='--', label='Discriminative', color='red')\n",
    "for i in range(2):\n",
    "    for j in range(2): \n",
    "        ax[i,j].legend()\n",
    "        ax[i,j].grid()\n",
    "\n",
    "plt.tight_layout()\n",
    "\n",
    "plt.savefig('result/simulation_data/diffusion_metrics/ssim_ensem_inf.svg')"
   ]
  },
  {
   "cell_type": "code",
   "execution_count": null,
   "id": "279a3cef",
   "metadata": {},
   "outputs": [],
   "source": [
    "inf_steps_list = [2,5,10,15,20,40]\n",
    "\n",
    "f, ax = plt.subplots(2, 2, figsize=(10,8))\n",
    "c=0\n",
    "title = ['NO2', 'O3', 'PM10', 'PM2.5']\n",
    "for k in range(len(inf_steps_list)):\n",
    "    c=0\n",
    "    with open('diffuion_output/obs_output_metric/output_metric_inf_size_'+ str(inf_steps_list[k]) +'.json', 'r') as file:\n",
    "        data = json.load(file)\n",
    "\n",
    "    relative_error = data['Relative error']\n",
    "    relative_error_list = []\n",
    "    for i in range(len(relative_error)):\n",
    "        relative_error_list.append(relative_error[str(i)])\n",
    "\n",
    "    relative_error_list = np.array(relative_error_list)\n",
    "\n",
    "    for i in range(2):\n",
    "        for j in range(2):    \n",
    "            ax[i,j].plot(relative_error_list[:,c], label='Infer steps = ' + str(inf_steps_list[k]))\n",
    "            ax[i,j].grid()\n",
    "            ax[i,j].set_title('Ensemble Size vs Relative Error ' + title[c])\n",
    "            ax[i,j].set_xlabel('Ensemble Size')\n",
    "            ax[i,j].legend()\n",
    "            c+=1\n",
    "\n",
    "ax[0,0].axhline(unet_mean_err[0], linestyle='--', label='Discriminative', color='red')\n",
    "ax[0,1].axhline(unet_mean_err[1], linestyle='--', label='Discriminative', color='red')\n",
    "ax[1,0].axhline(unet_mean_err[2], linestyle='--', label='Discriminative', color='red')\n",
    "ax[1,1].axhline(unet_mean_err[3], linestyle='--', label='Discriminative', color='red')\n",
    "for i in range(2):\n",
    "    for j in range(2): \n",
    "        ax[i,j].legend()\n",
    "        ax[i,j].grid()\n",
    "\n",
    "plt.tight_layout()\n",
    "\n",
    "plt.savefig('result/simulation_data/diffusion_metrics/relerr_ensem_inf.svg')"
   ]
  }
 ],
 "metadata": {
  "language_info": {
   "name": "python"
  }
 },
 "nbformat": 4,
 "nbformat_minor": 5
}
