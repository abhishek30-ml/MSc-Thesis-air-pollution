{
 "cells": [
  {
   "cell_type": "markdown",
   "id": "c5694ec9",
   "metadata": {},
   "source": [
    "# Results for Observation Data"
   ]
  },
  {
   "cell_type": "markdown",
   "id": "96b3f255",
   "metadata": {},
   "source": [
    "This notebook creates evaluation metrics and graphs for Observation data that is outlined in the report"
   ]
  },
  {
   "cell_type": "code",
   "execution_count": null,
   "id": "adf18168",
   "metadata": {},
   "outputs": [],
   "source": [
    "import random\n",
    "import numpy as np\n",
    "import torch\n",
    "from torch.utils.data import DataLoader\n",
    "\n",
    "from training.vit_unet import load_model as vit_unet_model\n",
    "from training.unet import load_model as unet_model\n",
    "from training.diffusion import load_model as diffusion_model\n",
    "\n",
    "from dataloader.observation import create_df_list\n",
    "from dataloader.observation import load_data\n",
    "from dataloader.observation import data_stat\n",
    "\n",
    "from inference.metrics import RelativeErrorObs"
   ]
  },
  {
   "cell_type": "markdown",
   "id": "f875b003",
   "metadata": {},
   "source": [
    "# Model comparision visualisation"
   ]
  },
  {
   "cell_type": "code",
   "execution_count": null,
   "id": "1d719b46",
   "metadata": {},
   "outputs": [],
   "source": [
    "# Create Random Validation images from different months\n",
    "\n",
    "df_obs_val_list = create_df_list()\n",
    "random.seed(42)  # Fix the seed\n",
    "\n",
    "random_list=[]\n",
    "for i in range(360,len(df_obs_val_list[0]),550*2+5):\n",
    "    random_list.append(i)\n",
    "    print(df_obs_val_list[0].iloc[i]['Date de début'])\n",
    "\n",
    "print(random_list)\n",
    "\n",
    "rand_df_list = [df_obs_val_list[i].loc[random_list].reset_index(drop=True) for i in range(4)]\n",
    "date_title = list(rand_df_list[0]['Date de début'].values)"
   ]
  },
  {
   "cell_type": "code",
   "execution_count": null,
   "id": "2f97ecaf",
   "metadata": {},
   "outputs": [],
   "source": [
    "dataset_polair_discrim = load_data(img_shape=(4,75,110), normalisation=False, df_obs_val_list=rand_df_list)\n",
    "dataset_polair_generative = load_data(img_shape=(4,75,110), normalisation=True, df_obs_val_list=rand_df_list)\n",
    "\n",
    "# DataLoader for Discriminative model\n",
    "discrim_dataloader = DataLoader(dataset_polair_discrim, batch_size=8, shuffle=False) \n",
    "\n",
    "# DataLoader for Generative model\n",
    "generative_dataloader = DataLoader(dataset_polair_generative, batch_size=8, shuffle=False) "
   ]
  },
  {
   "cell_type": "code",
   "execution_count": null,
   "metadata": {},
   "outputs": [],
   "source": [
    "# Load models\n",
    "img_size = (75,110)\n",
    "\n",
    "vit_unet_model = vit_unet_model(img_size, load_checkpoint=True)\n",
    "unet_model = unet_model(img_size, load_checkpoint=True)\n",
    "diffusion_model = diffusion_model(img_size, load_checkpoint=True)"
   ]
  },
  {
   "cell_type": "code",
   "execution_count": null,
   "id": "98c20623",
   "metadata": {},
   "outputs": [],
   "source": [
    "# Discriminative model\n",
    "mask, vt, org_img = next(iter(discrim_dataloader))\n",
    "\n",
    "# Vit+Unet model\n",
    "predicted_images_vit = vit_unet_model.call_model(vt)\n",
    "predicted_images_vit = predicted_images_vit.cpu()\n",
    "\n",
    "# Unet model\n",
    "predicted_images_unet = unet_model.call_model(vt)\n",
    "predicted_images_unet = predicted_images_unet.cpu()\n",
    "\n",
    "# Generative model\n",
    "mask, vt, org_img = next(iter(generative_dataloader))\n",
    "\n",
    "sample_img_diffusion = diffusion_model.ensemble_prediction(org_img, mask, vt, num_inf_steps=10, num_ensem_steps=20, device='cuda')[-1]\n",
    "\n",
    "org_img = org_img.cpu()\n",
    "sample_img_diffusion = sample_img_diffusion.cpu()\n",
    "vt = vt.cpu()"
   ]
  },
  {
   "cell_type": "code",
   "execution_count": null,
   "id": "6dc0f570",
   "metadata": {},
   "outputs": [],
   "source": [
    "import matplotlib.pyplot as plt\n",
    "\n",
    "def plot_result(vt, vit_pred, unet_pred, diff_pred, data_type, dict_meanstd, dict_minmax, date_title):\n",
    "    f, ax = plt.subplots(8, 4, figsize=(12, 16))  # Switched to 8 rows, 4 cols\n",
    "    data_mean = dict_meanstd[data_type][0]\n",
    "    data_std = dict_meanstd[data_type][1]\n",
    "    data_min = dict_minmax[data_type][0]\n",
    "    data_max = dict_minmax[data_type][1]\n",
    "    title = ['obs_input', 'Discriminative(ViT+UNet)', 'Discriminative(UNet)', 'Ensemble Diffusion']\n",
    "\n",
    "    for i in range(8):  # 8 samples\n",
    "        plot_vt_input = vt[i] * data_std / 0.5 + data_mean\n",
    "        plot_vit = vit_pred[i] * (data_max - data_min) + data_min\n",
    "        plot_unet = unet_pred[i] * (data_max - data_min) + data_min\n",
    "        plot_prediction1 = diff_pred[i] * data_std / 0.5 + data_mean\n",
    "\n",
    "        plots = [plot_vt_input, plot_vit, plot_unet, plot_prediction1]\n",
    "\n",
    "        for j in range(4):  # 4 model variants\n",
    "            im = ax[i, j].imshow(plots[j])\n",
    "            ax[i, j].axis('off')\n",
    "            \n",
    "            ax[i, j].set_title(title[j])\n",
    "            f.colorbar(im, ax=ax[i, j])\n",
    "        \n",
    "        ax[i, 0].set_title(date_title[i])\n",
    "\n",
    "    plt.tight_layout()\n",
    "    plt.savefig(f'result/observation_data/visualise/{data_type}.svg')\n"
   ]
  },
  {
   "cell_type": "code",
   "execution_count": null,
   "id": "f4f1b941",
   "metadata": {},
   "outputs": [],
   "source": [
    "dict_minmax, dict_meanstd = data_stat()\n",
    "for data_type in range(4):\n",
    "    plot_result(vt[:,data_type,:,:], predicted_images_vit[:,data_type,:,:], predicted_images_unet[:,data_type,:,:], sample_img_diffusion[:,data_type,:,:], data_type, dict_meanstd, dict_minmax, date_title)"
   ]
  },
  {
   "cell_type": "markdown",
   "id": "42d087c4",
   "metadata": {},
   "source": [
    "# Relative Error Histogram"
   ]
  },
  {
   "cell_type": "code",
   "execution_count": null,
   "id": "5542fa96",
   "metadata": {},
   "outputs": [],
   "source": [
    "RelErrClass = RelativeErrorObs(dict_minmax, dict_meanstd)\n",
    "\n",
    "# Discriminative Model\n",
    "\n",
    "RelErrClass.calculate_error(vit_unet_model, 'vit_unet')\n",
    "RelErrClass.calculate_error(unet_model, 'unet')\n",
    "\n",
    "# Generative model inference time is high. Load the pre-calculated error\n",
    "\n",
    "chan_rel_err = np.load(\"result/observation_data/relative_error/numpy_files/channel_relative_error_\"+ 'diffusion' +\".npz\")\n",
    "chan_rel_err = {int(k): chan_rel_err[k] for k in chan_rel_err.files}\n",
    "\n",
    "all_rel_error = np.load('result/observation_data/relative_error/numpy_files/all_relative_error_'+ 'diffusion' +'.npy')\n",
    "\n",
    "RelErrClass.create_channel_plot(chan_rel_err, 'diffusion')\n",
    "RelErrClass.create_mean_plot(all_rel_error, 'diffusion')"
   ]
  }
 ],
 "metadata": {
  "language_info": {
   "name": "python"
  }
 },
 "nbformat": 4,
 "nbformat_minor": 5
}
